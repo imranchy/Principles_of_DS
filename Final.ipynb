{
  "nbformat": 4,
  "nbformat_minor": 0,
  "metadata": {
    "colab": {
      "name": "Final.ipynb",
      "provenance": [],
      "collapsed_sections": []
    },
    "kernelspec": {
      "name": "python3",
      "display_name": "Python 3"
    },
    "language_info": {
      "name": "python"
    }
  },
  "cells": [
    {
      "cell_type": "markdown",
      "metadata": {
        "id": "lKpfIS43O7sL"
      },
      "source": [
        "# Introduction\n",
        "The Car Sales Adverts Dataset provided by AutoTrader has been analysed. The aim of was to tackle two main tasks, to identify which are the best features for predicting the price of the vehicles and analyse some bivariate/trivariate relationships among other features apart from price. To carry out these tasks the dataset is first loaded for reading and sampling. Then the data is understood using several pandas methods and visualisations. From the data understanding it was found that the dataset had eronous values such as missing values and outliers, which were then addressed and finally the dataset was prepared by dropping certain features for the analysis of best price predictors and relatiionship among other features.\n",
        "\n",
        "The results from the tasks show that the dataset contains 402004 records and 12 features and of these 7 are categorical features. After reading the data it was found that there are large number of missing values and outliers which were then dealt with. After cleaning of the dataset some exploration of the dataset is presented through subsetting and grouping. To perform the main tasks I have then prepared the dataset and reduced it to 6 features. From the analysis it is illustrated that the probable main predictor features of the price of the vehicles are year of their registration, type of their fuels and bodies. I have also analysed some bivariate/trivariate relationships among year of registration, milleage, fuel type and standard make."
      ]
    },
    {
      "cell_type": "markdown",
      "metadata": {
        "id": "mgUl9TkAcUPV"
      },
      "source": [
        "###Data Loading"
      ]
    },
    {
      "cell_type": "code",
      "metadata": {
        "colab": {
          "base_uri": "https://localhost:8080/"
        },
        "id": "n_0T3J-1O-c_",
        "outputId": "7f5ea6a0-12d7-4541-8878-4ee2be7465be"
      },
      "source": [
        "#Data Loading\n",
        "from google.colab import drive\n",
        "drive.mount('/content/drive')"
      ],
      "execution_count": 1,
      "outputs": [
        {
          "output_type": "stream",
          "name": "stdout",
          "text": [
            "Mounted at /content/drive\n"
          ]
        }
      ]
    },
    {
      "cell_type": "code",
      "metadata": {
        "id": "361LCJSjPICV"
      },
      "source": [
        "Path = 'drive/My Drive/Assessment'"
      ],
      "execution_count": 2,
      "outputs": []
    },
    {
      "cell_type": "code",
      "metadata": {
        "id": "ieI-rhjwPU7o"
      },
      "source": [
        "import pandas as pd\n",
        "import numpy as np\n",
        "import matplotlib.pyplot as plt\n",
        "import seaborn as sns\n",
        "sns.set(\n",
        "    palette=\"Set3\",\n",
        "    style='whitegrid',\n",
        "    color_codes=True,\n",
        ")\n",
        "sns.set({ \"figure.figsize\": (12/1.5,8/1.5) })"
      ],
      "execution_count": 3,
      "outputs": []
    },
    {
      "cell_type": "code",
      "metadata": {
        "colab": {
          "base_uri": "https://localhost:8080/",
          "height": 237
        },
        "id": "i9COr40CPb0C",
        "outputId": "ef165125-a65d-411f-88a7-01222b07e4aa"
      },
      "source": [
        "df = pd.read_csv(Path+'/adverts.csv')\n",
        "df.head()"
      ],
      "execution_count": 4,
      "outputs": [
        {
          "output_type": "execute_result",
          "data": {
            "text/html": [
              "<div>\n",
              "<style scoped>\n",
              "    .dataframe tbody tr th:only-of-type {\n",
              "        vertical-align: middle;\n",
              "    }\n",
              "\n",
              "    .dataframe tbody tr th {\n",
              "        vertical-align: top;\n",
              "    }\n",
              "\n",
              "    .dataframe thead th {\n",
              "        text-align: right;\n",
              "    }\n",
              "</style>\n",
              "<table border=\"1\" class=\"dataframe\">\n",
              "  <thead>\n",
              "    <tr style=\"text-align: right;\">\n",
              "      <th></th>\n",
              "      <th>public_reference</th>\n",
              "      <th>mileage</th>\n",
              "      <th>reg_code</th>\n",
              "      <th>standard_colour</th>\n",
              "      <th>standard_make</th>\n",
              "      <th>standard_model</th>\n",
              "      <th>vehicle_condition</th>\n",
              "      <th>year_of_registration</th>\n",
              "      <th>price</th>\n",
              "      <th>body_type</th>\n",
              "      <th>crossover_car_and_van</th>\n",
              "      <th>fuel_type</th>\n",
              "    </tr>\n",
              "  </thead>\n",
              "  <tbody>\n",
              "    <tr>\n",
              "      <th>0</th>\n",
              "      <td>202006039777689</td>\n",
              "      <td>0.0</td>\n",
              "      <td>NaN</td>\n",
              "      <td>Grey</td>\n",
              "      <td>Volvo</td>\n",
              "      <td>XC90</td>\n",
              "      <td>NEW</td>\n",
              "      <td>NaN</td>\n",
              "      <td>73970</td>\n",
              "      <td>SUV</td>\n",
              "      <td>False</td>\n",
              "      <td>Petrol Plug-in Hybrid</td>\n",
              "    </tr>\n",
              "    <tr>\n",
              "      <th>1</th>\n",
              "      <td>202007020778260</td>\n",
              "      <td>108230.0</td>\n",
              "      <td>61</td>\n",
              "      <td>Blue</td>\n",
              "      <td>Jaguar</td>\n",
              "      <td>XF</td>\n",
              "      <td>USED</td>\n",
              "      <td>2011.0</td>\n",
              "      <td>7000</td>\n",
              "      <td>Saloon</td>\n",
              "      <td>False</td>\n",
              "      <td>Diesel</td>\n",
              "    </tr>\n",
              "    <tr>\n",
              "      <th>2</th>\n",
              "      <td>202007020778474</td>\n",
              "      <td>7800.0</td>\n",
              "      <td>17</td>\n",
              "      <td>Grey</td>\n",
              "      <td>SKODA</td>\n",
              "      <td>Yeti</td>\n",
              "      <td>USED</td>\n",
              "      <td>2017.0</td>\n",
              "      <td>14000</td>\n",
              "      <td>SUV</td>\n",
              "      <td>False</td>\n",
              "      <td>Petrol</td>\n",
              "    </tr>\n",
              "    <tr>\n",
              "      <th>3</th>\n",
              "      <td>202007080986776</td>\n",
              "      <td>45000.0</td>\n",
              "      <td>16</td>\n",
              "      <td>Brown</td>\n",
              "      <td>Vauxhall</td>\n",
              "      <td>Mokka</td>\n",
              "      <td>USED</td>\n",
              "      <td>2016.0</td>\n",
              "      <td>7995</td>\n",
              "      <td>Hatchback</td>\n",
              "      <td>False</td>\n",
              "      <td>Diesel</td>\n",
              "    </tr>\n",
              "    <tr>\n",
              "      <th>4</th>\n",
              "      <td>202007161321269</td>\n",
              "      <td>64000.0</td>\n",
              "      <td>64</td>\n",
              "      <td>Grey</td>\n",
              "      <td>Land Rover</td>\n",
              "      <td>Range Rover Sport</td>\n",
              "      <td>USED</td>\n",
              "      <td>2015.0</td>\n",
              "      <td>26995</td>\n",
              "      <td>SUV</td>\n",
              "      <td>False</td>\n",
              "      <td>Diesel</td>\n",
              "    </tr>\n",
              "  </tbody>\n",
              "</table>\n",
              "</div>"
            ],
            "text/plain": [
              "   public_reference   mileage  ... crossover_car_and_van              fuel_type\n",
              "0   202006039777689       0.0  ...                 False  Petrol Plug-in Hybrid\n",
              "1   202007020778260  108230.0  ...                 False                 Diesel\n",
              "2   202007020778474    7800.0  ...                 False                 Petrol\n",
              "3   202007080986776   45000.0  ...                 False                 Diesel\n",
              "4   202007161321269   64000.0  ...                 False                 Diesel\n",
              "\n",
              "[5 rows x 12 columns]"
            ]
          },
          "metadata": {},
          "execution_count": 4
        }
      ]
    },
    {
      "cell_type": "code",
      "metadata": {
        "colab": {
          "base_uri": "https://localhost:8080/",
          "height": 377
        },
        "id": "CXxTjAY4PhHL",
        "outputId": "723e11a7-3713-4208-ceb2-ce764fad7a83"
      },
      "source": [
        "df.sample(10)"
      ],
      "execution_count": 5,
      "outputs": [
        {
          "output_type": "execute_result",
          "data": {
            "text/html": [
              "<div>\n",
              "<style scoped>\n",
              "    .dataframe tbody tr th:only-of-type {\n",
              "        vertical-align: middle;\n",
              "    }\n",
              "\n",
              "    .dataframe tbody tr th {\n",
              "        vertical-align: top;\n",
              "    }\n",
              "\n",
              "    .dataframe thead th {\n",
              "        text-align: right;\n",
              "    }\n",
              "</style>\n",
              "<table border=\"1\" class=\"dataframe\">\n",
              "  <thead>\n",
              "    <tr style=\"text-align: right;\">\n",
              "      <th></th>\n",
              "      <th>public_reference</th>\n",
              "      <th>mileage</th>\n",
              "      <th>reg_code</th>\n",
              "      <th>standard_colour</th>\n",
              "      <th>standard_make</th>\n",
              "      <th>standard_model</th>\n",
              "      <th>vehicle_condition</th>\n",
              "      <th>year_of_registration</th>\n",
              "      <th>price</th>\n",
              "      <th>body_type</th>\n",
              "      <th>crossover_car_and_van</th>\n",
              "      <th>fuel_type</th>\n",
              "    </tr>\n",
              "  </thead>\n",
              "  <tbody>\n",
              "    <tr>\n",
              "      <th>40124</th>\n",
              "      <td>202009183884084</td>\n",
              "      <td>25222.0</td>\n",
              "      <td>16</td>\n",
              "      <td>Black</td>\n",
              "      <td>Hyundai</td>\n",
              "      <td>i30</td>\n",
              "      <td>USED</td>\n",
              "      <td>2016.0</td>\n",
              "      <td>9000</td>\n",
              "      <td>Hatchback</td>\n",
              "      <td>False</td>\n",
              "      <td>Diesel</td>\n",
              "    </tr>\n",
              "    <tr>\n",
              "      <th>255777</th>\n",
              "      <td>202010305621923</td>\n",
              "      <td>28000.0</td>\n",
              "      <td>15</td>\n",
              "      <td>Silver</td>\n",
              "      <td>Mercedes-Benz</td>\n",
              "      <td>A Class</td>\n",
              "      <td>USED</td>\n",
              "      <td>2015.0</td>\n",
              "      <td>9995</td>\n",
              "      <td>Hatchback</td>\n",
              "      <td>False</td>\n",
              "      <td>Diesel</td>\n",
              "    </tr>\n",
              "    <tr>\n",
              "      <th>142285</th>\n",
              "      <td>202009183917247</td>\n",
              "      <td>36000.0</td>\n",
              "      <td>15</td>\n",
              "      <td>Green</td>\n",
              "      <td>Vauxhall</td>\n",
              "      <td>Corsa</td>\n",
              "      <td>USED</td>\n",
              "      <td>2015.0</td>\n",
              "      <td>4995</td>\n",
              "      <td>Hatchback</td>\n",
              "      <td>False</td>\n",
              "      <td>Petrol</td>\n",
              "    </tr>\n",
              "    <tr>\n",
              "      <th>219030</th>\n",
              "      <td>202007101086816</td>\n",
              "      <td>25343.0</td>\n",
              "      <td>17</td>\n",
              "      <td>Black</td>\n",
              "      <td>Audi</td>\n",
              "      <td>A4 Allroad</td>\n",
              "      <td>USED</td>\n",
              "      <td>2017.0</td>\n",
              "      <td>19995</td>\n",
              "      <td>Estate</td>\n",
              "      <td>False</td>\n",
              "      <td>Diesel</td>\n",
              "    </tr>\n",
              "    <tr>\n",
              "      <th>39670</th>\n",
              "      <td>202003188566020</td>\n",
              "      <td>52000.0</td>\n",
              "      <td>65</td>\n",
              "      <td>Black</td>\n",
              "      <td>Kia</td>\n",
              "      <td>Picanto</td>\n",
              "      <td>USED</td>\n",
              "      <td>2015.0</td>\n",
              "      <td>3690</td>\n",
              "      <td>Hatchback</td>\n",
              "      <td>False</td>\n",
              "      <td>Petrol</td>\n",
              "    </tr>\n",
              "    <tr>\n",
              "      <th>98706</th>\n",
              "      <td>202010285536430</td>\n",
              "      <td>117050.0</td>\n",
              "      <td>55</td>\n",
              "      <td>Blue</td>\n",
              "      <td>BMW</td>\n",
              "      <td>3 Series</td>\n",
              "      <td>USED</td>\n",
              "      <td>2005.0</td>\n",
              "      <td>3990</td>\n",
              "      <td>Saloon</td>\n",
              "      <td>False</td>\n",
              "      <td>Petrol</td>\n",
              "    </tr>\n",
              "    <tr>\n",
              "      <th>251001</th>\n",
              "      <td>202010124895854</td>\n",
              "      <td>60000.0</td>\n",
              "      <td>65</td>\n",
              "      <td>Blue</td>\n",
              "      <td>Volkswagen</td>\n",
              "      <td>Golf</td>\n",
              "      <td>USED</td>\n",
              "      <td>2015.0</td>\n",
              "      <td>9990</td>\n",
              "      <td>Hatchback</td>\n",
              "      <td>False</td>\n",
              "      <td>Diesel</td>\n",
              "    </tr>\n",
              "    <tr>\n",
              "      <th>139926</th>\n",
              "      <td>202009193925709</td>\n",
              "      <td>27334.0</td>\n",
              "      <td>17</td>\n",
              "      <td>Green</td>\n",
              "      <td>Vauxhall</td>\n",
              "      <td>Astra</td>\n",
              "      <td>USED</td>\n",
              "      <td>2017.0</td>\n",
              "      <td>8950</td>\n",
              "      <td>Hatchback</td>\n",
              "      <td>False</td>\n",
              "      <td>Diesel</td>\n",
              "    </tr>\n",
              "    <tr>\n",
              "      <th>343517</th>\n",
              "      <td>202010295562836</td>\n",
              "      <td>45113.0</td>\n",
              "      <td>66</td>\n",
              "      <td>Black</td>\n",
              "      <td>Land Rover</td>\n",
              "      <td>Discovery Sport</td>\n",
              "      <td>USED</td>\n",
              "      <td>2016.0</td>\n",
              "      <td>22888</td>\n",
              "      <td>SUV</td>\n",
              "      <td>False</td>\n",
              "      <td>Diesel</td>\n",
              "    </tr>\n",
              "    <tr>\n",
              "      <th>225765</th>\n",
              "      <td>202010215271194</td>\n",
              "      <td>5607.0</td>\n",
              "      <td>18</td>\n",
              "      <td>Blue</td>\n",
              "      <td>Hyundai</td>\n",
              "      <td>i10</td>\n",
              "      <td>USED</td>\n",
              "      <td>2018.0</td>\n",
              "      <td>7895</td>\n",
              "      <td>Hatchback</td>\n",
              "      <td>False</td>\n",
              "      <td>Petrol</td>\n",
              "    </tr>\n",
              "  </tbody>\n",
              "</table>\n",
              "</div>"
            ],
            "text/plain": [
              "        public_reference   mileage  ... crossover_car_and_van fuel_type\n",
              "40124    202009183884084   25222.0  ...                 False    Diesel\n",
              "255777   202010305621923   28000.0  ...                 False    Diesel\n",
              "142285   202009183917247   36000.0  ...                 False    Petrol\n",
              "219030   202007101086816   25343.0  ...                 False    Diesel\n",
              "39670    202003188566020   52000.0  ...                 False    Petrol\n",
              "98706    202010285536430  117050.0  ...                 False    Petrol\n",
              "251001   202010124895854   60000.0  ...                 False    Diesel\n",
              "139926   202009193925709   27334.0  ...                 False    Diesel\n",
              "343517   202010295562836   45113.0  ...                 False    Diesel\n",
              "225765   202010215271194    5607.0  ...                 False    Petrol\n",
              "\n",
              "[10 rows x 12 columns]"
            ]
          },
          "metadata": {},
          "execution_count": 5
        }
      ]
    },
    {
      "cell_type": "code",
      "metadata": {
        "id": "ARcjyc-APmyI",
        "colab": {
          "base_uri": "https://localhost:8080/",
          "height": 223
        },
        "outputId": "1abf51eb-9981-45f9-bcfd-505fe961ea88"
      },
      "source": [
        "df.tail()"
      ],
      "execution_count": 6,
      "outputs": [
        {
          "output_type": "execute_result",
          "data": {
            "text/html": [
              "<div>\n",
              "<style scoped>\n",
              "    .dataframe tbody tr th:only-of-type {\n",
              "        vertical-align: middle;\n",
              "    }\n",
              "\n",
              "    .dataframe tbody tr th {\n",
              "        vertical-align: top;\n",
              "    }\n",
              "\n",
              "    .dataframe thead th {\n",
              "        text-align: right;\n",
              "    }\n",
              "</style>\n",
              "<table border=\"1\" class=\"dataframe\">\n",
              "  <thead>\n",
              "    <tr style=\"text-align: right;\">\n",
              "      <th></th>\n",
              "      <th>public_reference</th>\n",
              "      <th>mileage</th>\n",
              "      <th>reg_code</th>\n",
              "      <th>standard_colour</th>\n",
              "      <th>standard_make</th>\n",
              "      <th>standard_model</th>\n",
              "      <th>vehicle_condition</th>\n",
              "      <th>year_of_registration</th>\n",
              "      <th>price</th>\n",
              "      <th>body_type</th>\n",
              "      <th>crossover_car_and_van</th>\n",
              "      <th>fuel_type</th>\n",
              "    </tr>\n",
              "  </thead>\n",
              "  <tbody>\n",
              "    <tr>\n",
              "      <th>402000</th>\n",
              "      <td>202010315652942</td>\n",
              "      <td>5179.0</td>\n",
              "      <td>69</td>\n",
              "      <td>Grey</td>\n",
              "      <td>Peugeot</td>\n",
              "      <td>208</td>\n",
              "      <td>USED</td>\n",
              "      <td>2019.0</td>\n",
              "      <td>10595</td>\n",
              "      <td>Hatchback</td>\n",
              "      <td>False</td>\n",
              "      <td>Petrol</td>\n",
              "    </tr>\n",
              "    <tr>\n",
              "      <th>402001</th>\n",
              "      <td>202010315657341</td>\n",
              "      <td>110000.0</td>\n",
              "      <td>59</td>\n",
              "      <td>Red</td>\n",
              "      <td>Peugeot</td>\n",
              "      <td>107</td>\n",
              "      <td>USED</td>\n",
              "      <td>2009.0</td>\n",
              "      <td>2000</td>\n",
              "      <td>Hatchback</td>\n",
              "      <td>False</td>\n",
              "      <td>Petrol</td>\n",
              "    </tr>\n",
              "    <tr>\n",
              "      <th>402002</th>\n",
              "      <td>202010315659271</td>\n",
              "      <td>52760.0</td>\n",
              "      <td>62</td>\n",
              "      <td>White</td>\n",
              "      <td>Nissan</td>\n",
              "      <td>Qashqai</td>\n",
              "      <td>USED</td>\n",
              "      <td>2012.0</td>\n",
              "      <td>7250</td>\n",
              "      <td>SUV</td>\n",
              "      <td>False</td>\n",
              "      <td>Petrol</td>\n",
              "    </tr>\n",
              "    <tr>\n",
              "      <th>402003</th>\n",
              "      <td>202011015662436</td>\n",
              "      <td>10250.0</td>\n",
              "      <td>65</td>\n",
              "      <td>Red</td>\n",
              "      <td>Abarth</td>\n",
              "      <td>595</td>\n",
              "      <td>USED</td>\n",
              "      <td>2015.0</td>\n",
              "      <td>11490</td>\n",
              "      <td>Hatchback</td>\n",
              "      <td>False</td>\n",
              "      <td>Petrol</td>\n",
              "    </tr>\n",
              "    <tr>\n",
              "      <th>402004</th>\n",
              "      <td>201512149444029</td>\n",
              "      <td>14000.0</td>\n",
              "      <td>14</td>\n",
              "      <td>Silver</td>\n",
              "      <td>Audi</td>\n",
              "      <td>A4 Avant</td>\n",
              "      <td>USED</td>\n",
              "      <td>2014.0</td>\n",
              "      <td>20520</td>\n",
              "      <td>Estate</td>\n",
              "      <td>False</td>\n",
              "      <td>Diesel</td>\n",
              "    </tr>\n",
              "  </tbody>\n",
              "</table>\n",
              "</div>"
            ],
            "text/plain": [
              "        public_reference   mileage  ... crossover_car_and_van fuel_type\n",
              "402000   202010315652942    5179.0  ...                 False    Petrol\n",
              "402001   202010315657341  110000.0  ...                 False    Petrol\n",
              "402002   202010315659271   52760.0  ...                 False    Petrol\n",
              "402003   202011015662436   10250.0  ...                 False    Petrol\n",
              "402004   201512149444029   14000.0  ...                 False    Diesel\n",
              "\n",
              "[5 rows x 12 columns]"
            ]
          },
          "metadata": {},
          "execution_count": 6
        }
      ]
    },
    {
      "cell_type": "markdown",
      "metadata": {
        "id": "xhfhebj_chpK"
      },
      "source": [
        "###Data Understanding and Cleaning"
      ]
    },
    {
      "cell_type": "code",
      "metadata": {
        "colab": {
          "base_uri": "https://localhost:8080/"
        },
        "id": "ooROKNm5596e",
        "outputId": "ecb0ce36-2b26-4f19-f60e-da4c490fbc6b"
      },
      "source": [
        "#Data Understanding and cleaning\n",
        "df.info(verbose=True)"
      ],
      "execution_count": 7,
      "outputs": [
        {
          "output_type": "stream",
          "name": "stdout",
          "text": [
            "<class 'pandas.core.frame.DataFrame'>\n",
            "RangeIndex: 402005 entries, 0 to 402004\n",
            "Data columns (total 12 columns):\n",
            " #   Column                 Non-Null Count   Dtype  \n",
            "---  ------                 --------------   -----  \n",
            " 0   public_reference       402005 non-null  int64  \n",
            " 1   mileage                401878 non-null  float64\n",
            " 2   reg_code               370148 non-null  object \n",
            " 3   standard_colour        396627 non-null  object \n",
            " 4   standard_make          402005 non-null  object \n",
            " 5   standard_model         402005 non-null  object \n",
            " 6   vehicle_condition      402005 non-null  object \n",
            " 7   year_of_registration   368694 non-null  float64\n",
            " 8   price                  402005 non-null  int64  \n",
            " 9   body_type              401168 non-null  object \n",
            " 10  crossover_car_and_van  402005 non-null  bool   \n",
            " 11  fuel_type              401404 non-null  object \n",
            "dtypes: bool(1), float64(2), int64(2), object(7)\n",
            "memory usage: 34.1+ MB\n"
          ]
        }
      ]
    },
    {
      "cell_type": "code",
      "metadata": {
        "colab": {
          "base_uri": "https://localhost:8080/"
        },
        "id": "OGDUrKrE8oep",
        "outputId": "5bd34029-8199-4284-d740-3fd035edfc42"
      },
      "source": [
        "df.columns"
      ],
      "execution_count": 8,
      "outputs": [
        {
          "output_type": "execute_result",
          "data": {
            "text/plain": [
              "Index(['public_reference', 'mileage', 'reg_code', 'standard_colour',\n",
              "       'standard_make', 'standard_model', 'vehicle_condition',\n",
              "       'year_of_registration', 'price', 'body_type', 'crossover_car_and_van',\n",
              "       'fuel_type'],\n",
              "      dtype='object')"
            ]
          },
          "metadata": {},
          "execution_count": 8
        }
      ]
    },
    {
      "cell_type": "code",
      "metadata": {
        "colab": {
          "base_uri": "https://localhost:8080/",
          "height": 295
        },
        "id": "UAAUlVln8wkP",
        "outputId": "3216ead3-25e6-4c5a-9089-e73881d0d9db"
      },
      "source": [
        "df.describe()"
      ],
      "execution_count": 9,
      "outputs": [
        {
          "output_type": "execute_result",
          "data": {
            "text/html": [
              "<div>\n",
              "<style scoped>\n",
              "    .dataframe tbody tr th:only-of-type {\n",
              "        vertical-align: middle;\n",
              "    }\n",
              "\n",
              "    .dataframe tbody tr th {\n",
              "        vertical-align: top;\n",
              "    }\n",
              "\n",
              "    .dataframe thead th {\n",
              "        text-align: right;\n",
              "    }\n",
              "</style>\n",
              "<table border=\"1\" class=\"dataframe\">\n",
              "  <thead>\n",
              "    <tr style=\"text-align: right;\">\n",
              "      <th></th>\n",
              "      <th>public_reference</th>\n",
              "      <th>mileage</th>\n",
              "      <th>year_of_registration</th>\n",
              "      <th>price</th>\n",
              "    </tr>\n",
              "  </thead>\n",
              "  <tbody>\n",
              "    <tr>\n",
              "      <th>count</th>\n",
              "      <td>4.020050e+05</td>\n",
              "      <td>401878.000000</td>\n",
              "      <td>368694.000000</td>\n",
              "      <td>4.020050e+05</td>\n",
              "    </tr>\n",
              "    <tr>\n",
              "      <th>mean</th>\n",
              "      <td>2.020071e+14</td>\n",
              "      <td>37743.595656</td>\n",
              "      <td>2015.006206</td>\n",
              "      <td>1.734197e+04</td>\n",
              "    </tr>\n",
              "    <tr>\n",
              "      <th>std</th>\n",
              "      <td>1.691662e+10</td>\n",
              "      <td>34831.724018</td>\n",
              "      <td>7.962667</td>\n",
              "      <td>4.643746e+04</td>\n",
              "    </tr>\n",
              "    <tr>\n",
              "      <th>min</th>\n",
              "      <td>2.013072e+14</td>\n",
              "      <td>0.000000</td>\n",
              "      <td>999.000000</td>\n",
              "      <td>1.200000e+02</td>\n",
              "    </tr>\n",
              "    <tr>\n",
              "      <th>25%</th>\n",
              "      <td>2.020090e+14</td>\n",
              "      <td>10481.000000</td>\n",
              "      <td>2013.000000</td>\n",
              "      <td>7.495000e+03</td>\n",
              "    </tr>\n",
              "    <tr>\n",
              "      <th>50%</th>\n",
              "      <td>2.020093e+14</td>\n",
              "      <td>28629.500000</td>\n",
              "      <td>2016.000000</td>\n",
              "      <td>1.260000e+04</td>\n",
              "    </tr>\n",
              "    <tr>\n",
              "      <th>75%</th>\n",
              "      <td>2.020102e+14</td>\n",
              "      <td>56875.750000</td>\n",
              "      <td>2018.000000</td>\n",
              "      <td>2.000000e+04</td>\n",
              "    </tr>\n",
              "    <tr>\n",
              "      <th>max</th>\n",
              "      <td>2.020110e+14</td>\n",
              "      <td>999999.000000</td>\n",
              "      <td>2020.000000</td>\n",
              "      <td>9.999999e+06</td>\n",
              "    </tr>\n",
              "  </tbody>\n",
              "</table>\n",
              "</div>"
            ],
            "text/plain": [
              "       public_reference        mileage  year_of_registration         price\n",
              "count      4.020050e+05  401878.000000         368694.000000  4.020050e+05\n",
              "mean       2.020071e+14   37743.595656           2015.006206  1.734197e+04\n",
              "std        1.691662e+10   34831.724018              7.962667  4.643746e+04\n",
              "min        2.013072e+14       0.000000            999.000000  1.200000e+02\n",
              "25%        2.020090e+14   10481.000000           2013.000000  7.495000e+03\n",
              "50%        2.020093e+14   28629.500000           2016.000000  1.260000e+04\n",
              "75%        2.020102e+14   56875.750000           2018.000000  2.000000e+04\n",
              "max        2.020110e+14  999999.000000           2020.000000  9.999999e+06"
            ]
          },
          "metadata": {},
          "execution_count": 9
        }
      ]
    },
    {
      "cell_type": "markdown",
      "metadata": {
        "id": "2ip8UslX9PE6"
      },
      "source": [
        "Some missing values are found from the first look at the dataset where Vehicle Condition = New there are missing values (NAN) for year of registration, reg code and the values of mileage ranges between 0 to 10\n",
        "0.\n"
      ]
    },
    {
      "cell_type": "code",
      "metadata": {
        "colab": {
          "base_uri": "https://localhost:8080/",
          "height": 417
        },
        "id": "XzjrW28-9oQO",
        "outputId": "60d9bdbb-6861-4a2f-a919-3dede69a93c5"
      },
      "source": [
        "df.loc[ df['vehicle_condition']=='NEW', ['mileage','year_of_registration','reg_code'] ]"
      ],
      "execution_count": 10,
      "outputs": [
        {
          "output_type": "execute_result",
          "data": {
            "text/html": [
              "<div>\n",
              "<style scoped>\n",
              "    .dataframe tbody tr th:only-of-type {\n",
              "        vertical-align: middle;\n",
              "    }\n",
              "\n",
              "    .dataframe tbody tr th {\n",
              "        vertical-align: top;\n",
              "    }\n",
              "\n",
              "    .dataframe thead th {\n",
              "        text-align: right;\n",
              "    }\n",
              "</style>\n",
              "<table border=\"1\" class=\"dataframe\">\n",
              "  <thead>\n",
              "    <tr style=\"text-align: right;\">\n",
              "      <th></th>\n",
              "      <th>mileage</th>\n",
              "      <th>year_of_registration</th>\n",
              "      <th>reg_code</th>\n",
              "    </tr>\n",
              "  </thead>\n",
              "  <tbody>\n",
              "    <tr>\n",
              "      <th>0</th>\n",
              "      <td>0.0</td>\n",
              "      <td>NaN</td>\n",
              "      <td>NaN</td>\n",
              "    </tr>\n",
              "    <tr>\n",
              "      <th>17</th>\n",
              "      <td>5.0</td>\n",
              "      <td>NaN</td>\n",
              "      <td>NaN</td>\n",
              "    </tr>\n",
              "    <tr>\n",
              "      <th>19</th>\n",
              "      <td>0.0</td>\n",
              "      <td>NaN</td>\n",
              "      <td>NaN</td>\n",
              "    </tr>\n",
              "    <tr>\n",
              "      <th>37</th>\n",
              "      <td>0.0</td>\n",
              "      <td>NaN</td>\n",
              "      <td>NaN</td>\n",
              "    </tr>\n",
              "    <tr>\n",
              "      <th>44</th>\n",
              "      <td>0.0</td>\n",
              "      <td>NaN</td>\n",
              "      <td>NaN</td>\n",
              "    </tr>\n",
              "    <tr>\n",
              "      <th>...</th>\n",
              "      <td>...</td>\n",
              "      <td>...</td>\n",
              "      <td>...</td>\n",
              "    </tr>\n",
              "    <tr>\n",
              "      <th>401860</th>\n",
              "      <td>10.0</td>\n",
              "      <td>NaN</td>\n",
              "      <td>NaN</td>\n",
              "    </tr>\n",
              "    <tr>\n",
              "      <th>401890</th>\n",
              "      <td>5.0</td>\n",
              "      <td>NaN</td>\n",
              "      <td>NaN</td>\n",
              "    </tr>\n",
              "    <tr>\n",
              "      <th>401902</th>\n",
              "      <td>10.0</td>\n",
              "      <td>NaN</td>\n",
              "      <td>NaN</td>\n",
              "    </tr>\n",
              "    <tr>\n",
              "      <th>401905</th>\n",
              "      <td>0.0</td>\n",
              "      <td>NaN</td>\n",
              "      <td>NaN</td>\n",
              "    </tr>\n",
              "    <tr>\n",
              "      <th>401971</th>\n",
              "      <td>10.0</td>\n",
              "      <td>NaN</td>\n",
              "      <td>NaN</td>\n",
              "    </tr>\n",
              "  </tbody>\n",
              "</table>\n",
              "<p>31249 rows × 3 columns</p>\n",
              "</div>"
            ],
            "text/plain": [
              "        mileage  year_of_registration reg_code\n",
              "0           0.0                   NaN      NaN\n",
              "17          5.0                   NaN      NaN\n",
              "19          0.0                   NaN      NaN\n",
              "37          0.0                   NaN      NaN\n",
              "44          0.0                   NaN      NaN\n",
              "...         ...                   ...      ...\n",
              "401860     10.0                   NaN      NaN\n",
              "401890      5.0                   NaN      NaN\n",
              "401902     10.0                   NaN      NaN\n",
              "401905      0.0                   NaN      NaN\n",
              "401971     10.0                   NaN      NaN\n",
              "\n",
              "[31249 rows x 3 columns]"
            ]
          },
          "metadata": {},
          "execution_count": 10
        }
      ]
    },
    {
      "cell_type": "code",
      "metadata": {
        "colab": {
          "base_uri": "https://localhost:8080/"
        },
        "id": "96O9gdjo_Qty",
        "outputId": "43d8b4d9-2214-4f1f-a08d-d4e4dc4b8b0f"
      },
      "source": [
        "#Number of Missing values and removindg them\n",
        "df.isnull().sum()"
      ],
      "execution_count": 11,
      "outputs": [
        {
          "output_type": "execute_result",
          "data": {
            "text/plain": [
              "public_reference             0\n",
              "mileage                    127\n",
              "reg_code                 31857\n",
              "standard_colour           5378\n",
              "standard_make                0\n",
              "standard_model               0\n",
              "vehicle_condition            0\n",
              "year_of_registration     33311\n",
              "price                        0\n",
              "body_type                  837\n",
              "crossover_car_and_van        0\n",
              "fuel_type                  601\n",
              "dtype: int64"
            ]
          },
          "metadata": {},
          "execution_count": 11
        }
      ]
    },
    {
      "cell_type": "code",
      "metadata": {
        "colab": {
          "base_uri": "https://localhost:8080/"
        },
        "id": "DO9QXhlj_fG7",
        "outputId": "6445ce16-2613-4e96-b649-0c45ec3373de"
      },
      "source": [
        "df = df.dropna()\n",
        "df.isnull().sum()"
      ],
      "execution_count": 12,
      "outputs": [
        {
          "output_type": "execute_result",
          "data": {
            "text/plain": [
              "public_reference         0\n",
              "mileage                  0\n",
              "reg_code                 0\n",
              "standard_colour          0\n",
              "standard_make            0\n",
              "standard_model           0\n",
              "vehicle_condition        0\n",
              "year_of_registration     0\n",
              "price                    0\n",
              "body_type                0\n",
              "crossover_car_and_van    0\n",
              "fuel_type                0\n",
              "dtype: int64"
            ]
          },
          "metadata": {},
          "execution_count": 12
        }
      ]
    },
    {
      "cell_type": "code",
      "metadata": {
        "colab": {
          "base_uri": "https://localhost:8080/"
        },
        "id": "R-0kERjn_pjp",
        "outputId": "3aa692ce-9212-4e73-a69a-641dc58f9450"
      },
      "source": [
        "df.shape"
      ],
      "execution_count": 13,
      "outputs": [
        {
          "output_type": "execute_result",
          "data": {
            "text/plain": [
              "(363424, 12)"
            ]
          },
          "metadata": {},
          "execution_count": 13
        }
      ]
    },
    {
      "cell_type": "code",
      "metadata": {
        "colab": {
          "base_uri": "https://localhost:8080/"
        },
        "id": "EaFriHyvAD3p",
        "outputId": "1c268f75-3e5a-4f31-8769-5f5baba95f19"
      },
      "source": [
        "#Unique values of all the categorical features\n",
        "df['standard_make'].unique()"
      ],
      "execution_count": 14,
      "outputs": [
        {
          "output_type": "execute_result",
          "data": {
            "text/plain": [
              "array(['Jaguar', 'SKODA', 'Vauxhall', 'Land Rover', 'Audi',\n",
              "       'Mercedes-Benz', 'Volkswagen', 'Peugeot', 'SEAT', 'MINI', 'BMW',\n",
              "       'Nissan', 'Mitsubishi', 'Citroen', 'Toyota', 'Volvo', 'Kia',\n",
              "       'Renault', 'Honda', 'Bentley', 'DS AUTOMOBILES', 'Hyundai',\n",
              "       'Aston Martin', 'Fiat', 'McLaren', 'Smart', 'Alfa Romeo',\n",
              "       'Porsche', 'Abarth', 'Mazda', 'Suzuki', 'MG', 'Dacia', 'Subaru',\n",
              "       'SsangYong', 'Maserati', 'Ferrari', 'Saab', 'Rolls-Royce', 'Lexus',\n",
              "       'Jeep', 'Panther', 'Chevrolet', 'Lamborghini', 'Daihatsu', 'Dodge',\n",
              "       'Isuzu', 'Tesla', 'TVR', 'Rover', 'Cadillac', 'Lotus', 'Infiniti',\n",
              "       'Chrysler', 'Morgan', 'London Taxis International', 'Daimler',\n",
              "       'CUPRA', 'Triumph', 'Perodua', 'Lincoln', 'Bugatti', 'Alpine',\n",
              "       'Great Wall', 'Replica', 'Opel', 'Proton', 'Lancia', 'Austin',\n",
              "       'Morris', 'Westfield', 'Maybach', 'LEVC', 'Iveco', 'Hummer',\n",
              "       'Caterham', 'Carbodies', 'Jensen', 'Daewoo', 'Wolseley', 'Pilgrim',\n",
              "       'Bristol', 'Aixam', 'Holden', 'Ariel', 'Corvette', 'Leyland',\n",
              "       'GMC', 'Ultima', 'Datsun', 'Zenos', 'AK', 'Noble', 'Plymouth',\n",
              "       'Buick', 'Gentry', 'Sebring', 'Dax', 'BAC', 'Radical', 'Mitsuoka',\n",
              "       'Beauford', 'Custom Vehicle'], dtype=object)"
            ]
          },
          "metadata": {},
          "execution_count": 14
        }
      ]
    },
    {
      "cell_type": "code",
      "metadata": {
        "colab": {
          "base_uri": "https://localhost:8080/"
        },
        "id": "kFJ40OuzAvz7",
        "outputId": "8ac58463-867f-4da5-e695-de9e072d5b90"
      },
      "source": [
        "df['standard_model'].unique()"
      ],
      "execution_count": 15,
      "outputs": [
        {
          "output_type": "execute_result",
          "data": {
            "text/plain": [
              "array(['XF', 'Yeti', 'Mokka', ..., 'MPV', 'Pininfarina', '480'],\n",
              "      dtype=object)"
            ]
          },
          "metadata": {},
          "execution_count": 15
        }
      ]
    },
    {
      "cell_type": "code",
      "metadata": {
        "colab": {
          "base_uri": "https://localhost:8080/"
        },
        "id": "Tu07dAyTA3Iu",
        "outputId": "e736ba33-3ace-46a7-ae1f-d177a7f136cb"
      },
      "source": [
        "df['standard_colour'].unique()"
      ],
      "execution_count": 16,
      "outputs": [
        {
          "output_type": "execute_result",
          "data": {
            "text/plain": [
              "array(['Blue', 'Grey', 'Brown', 'Red', 'Bronze', 'Black', 'White',\n",
              "       'Silver', 'Purple', 'Green', 'Orange', 'Yellow', 'Turquoise',\n",
              "       'Gold', 'Beige', 'Burgundy', 'Multicolour', 'Pink', 'Maroon',\n",
              "       'Magenta', 'Navy', 'Indigo'], dtype=object)"
            ]
          },
          "metadata": {},
          "execution_count": 16
        }
      ]
    },
    {
      "cell_type": "markdown",
      "metadata": {
        "id": "IMO5zqw-U7CV"
      },
      "source": [
        "In this part of the Data Understanding process I will plot some bar plots showing the number of counts of \"body_type\", \"fuel_type\", \"crossover_car_and_van\" and \"vehicle_condition\". These features have less number of categories which makes plotting easier and could have some relationship between the prices of the vehicles. Then I hven plotted the Pearson Correlation Plot of all the numeric features which will show us which numeric features are mostly correlated with \"price\"."
      ]
    },
    {
      "cell_type": "code",
      "metadata": {
        "colab": {
          "base_uri": "https://localhost:8080/",
          "height": 357
        },
        "id": "1KUXduHiBJaM",
        "outputId": "d7758bbf-ccfc-47f0-cd6e-f54d1a66880a"
      },
      "source": [
        "#It can be assumed that body type and fuel type could \n",
        "#be important features in predicting a vehicles price as a vehicles price may vary due to various body types and different types of fuels it runs on.\n",
        "df['body_type'].value_counts().plot.barh()"
      ],
      "execution_count": 17,
      "outputs": [
        {
          "output_type": "execute_result",
          "data": {
            "text/plain": [
              "<matplotlib.axes._subplots.AxesSubplot at 0x7f33a5a5c790>"
            ]
          },
          "metadata": {},
          "execution_count": 17
        },
        {
          "output_type": "display_data",
          "data": {
            "image/png": "[encoded data removed]",
            "text/plain": [
              "<Figure size 576x384 with 1 Axes>"
            ]
          },
          "metadata": {}
        }
      ]
    },
    {
      "cell_type": "code",
      "metadata": {
        "colab": {
          "base_uri": "https://localhost:8080/",
          "height": 357
        },
        "id": "4uoKmB8vBxYa",
        "outputId": "b0e06e22-2dbe-48b0-aa60-5977d0659bec"
      },
      "source": [
        "df['fuel_type'].value_counts().plot.barh()"
      ],
      "execution_count": 18,
      "outputs": [
        {
          "output_type": "execute_result",
          "data": {
            "text/plain": [
              "<matplotlib.axes._subplots.AxesSubplot at 0x7f33a59b7490>"
            ]
          },
          "metadata": {},
          "execution_count": 18
        },
        {
          "output_type": "display_data",
          "data": {
            "image/png": "[encoded data removed]",
            "text/plain": [
              "<Figure size 576x384 with 1 Axes>"
            ]
          },
          "metadata": {}
        }
      ]
    },
    {
      "cell_type": "code",
      "metadata": {
        "colab": {
          "base_uri": "https://localhost:8080/",
          "height": 375
        },
        "id": "X9BWkaQWB7kD",
        "outputId": "04ef1e33-90cd-4ddc-f93d-6c6efc4f82ae"
      },
      "source": [
        "df['crossover_car_and_van'].value_counts().plot.bar()"
      ],
      "execution_count": 19,
      "outputs": [
        {
          "output_type": "execute_result",
          "data": {
            "text/plain": [
              "<matplotlib.axes._subplots.AxesSubplot at 0x7f33a548a1d0>"
            ]
          },
          "metadata": {},
          "execution_count": 19
        },
        {
          "output_type": "display_data",
          "data": {
            "image/png": "[encoded data removed]",
            "text/plain": [
              "<Figure size 576x384 with 1 Axes>"
            ]
          },
          "metadata": {}
        }
      ]
    },
    {
      "cell_type": "code",
      "metadata": {
        "colab": {
          "base_uri": "https://localhost:8080/",
          "height": 378
        },
        "id": "WqZrIsWGEyDA",
        "outputId": "d233aee4-6516-481a-df7f-cfb71d64a36a"
      },
      "source": [
        "df['vehicle_condition'].value_counts().plot.bar()"
      ],
      "execution_count": 20,
      "outputs": [
        {
          "output_type": "execute_result",
          "data": {
            "text/plain": [
              "<matplotlib.axes._subplots.AxesSubplot at 0x7f33a54b7610>"
            ]
          },
          "metadata": {},
          "execution_count": 20
        },
        {
          "output_type": "display_data",
          "data": {
            "image/png": "[encoded data removed]",
            "text/plain": [
              "<Figure size 576x384 with 1 Axes>"
            ]
          },
          "metadata": {}
        }
      ]
    },
    {
      "cell_type": "code",
      "metadata": {
        "colab": {
          "base_uri": "https://localhost:8080/",
          "height": 480
        },
        "id": "hYm1BNJGCblI",
        "outputId": "43f0aa4c-5d81-4f78-fddd-b6c0c31e80f5"
      },
      "source": [
        "#Finding relationships between the numerical features\n",
        "#https://datatofish.com/correlation-matrix-pandas/\n",
        "\n",
        "corrMatrix = df.corr()\n",
        "sns.heatmap(corrMatrix, annot=True)"
      ],
      "execution_count": 21,
      "outputs": [
        {
          "output_type": "execute_result",
          "data": {
            "text/plain": [
              "<matplotlib.axes._subplots.AxesSubplot at 0x7f33a53a4290>"
            ]
          },
          "metadata": {},
          "execution_count": 21
        },
        {
          "output_type": "display_data",
          "data": {
            "image/png": "[encoded data removed]",
            "text/plain": [
              "<Figure size 576x384 with 2 Axes>"
            ]
          },
          "metadata": {}
        }
      ]
    },
    {
      "cell_type": "markdown",
      "metadata": {
        "id": "j2W2Z2YxX5I1"
      },
      "source": [
        "The results from the above shows that \"crossover_car_and_van\" has very few True values and \"vehicle_condition\" only has USED vehicles as the NEW ones had some missing values in other columns which were removed. The correlation plot shows that the best numeric variable for predicting the price is \"year_of_registration\". So to analyse the relationships between features I will drop 'public_reference','reg_code','crossover_car_and_van','standard_colour','vehicle_condition' and 'standard_model' features."
      ]
    },
    {
      "cell_type": "code",
      "metadata": {
        "colab": {
          "base_uri": "https://localhost:8080/",
          "height": 203
        },
        "id": "sR3tK_s6DXZp",
        "outputId": "bc0af5ae-def8-4618-a7ca-048398c9f0f1"
      },
      "source": [
        "#It is found from the correlation plot that public reference and mileage has very weak correlation between price and crossover car and van has very little true values\n",
        "#Since vehicle condition has only USED values and vehicle make and standard color has a large number of unique values we can drop these columns. But for further\n",
        "#Data analysis I am going to keep the features mileage and standard make.\n",
        "\n",
        "df = df.drop(columns=['public_reference','reg_code','crossover_car_and_van','standard_colour','vehicle_condition','standard_model'],axis=1)\n",
        "df.head()"
      ],
      "execution_count": 22,
      "outputs": [
        {
          "output_type": "execute_result",
          "data": {
            "text/html": [
              "<div>\n",
              "<style scoped>\n",
              "    .dataframe tbody tr th:only-of-type {\n",
              "        vertical-align: middle;\n",
              "    }\n",
              "\n",
              "    .dataframe tbody tr th {\n",
              "        vertical-align: top;\n",
              "    }\n",
              "\n",
              "    .dataframe thead th {\n",
              "        text-align: right;\n",
              "    }\n",
              "</style>\n",
              "<table border=\"1\" class=\"dataframe\">\n",
              "  <thead>\n",
              "    <tr style=\"text-align: right;\">\n",
              "      <th></th>\n",
              "      <th>mileage</th>\n",
              "      <th>standard_make</th>\n",
              "      <th>year_of_registration</th>\n",
              "      <th>price</th>\n",
              "      <th>body_type</th>\n",
              "      <th>fuel_type</th>\n",
              "    </tr>\n",
              "  </thead>\n",
              "  <tbody>\n",
              "    <tr>\n",
              "      <th>1</th>\n",
              "      <td>108230.0</td>\n",
              "      <td>Jaguar</td>\n",
              "      <td>2011.0</td>\n",
              "      <td>7000</td>\n",
              "      <td>Saloon</td>\n",
              "      <td>Diesel</td>\n",
              "    </tr>\n",
              "    <tr>\n",
              "      <th>2</th>\n",
              "      <td>7800.0</td>\n",
              "      <td>SKODA</td>\n",
              "      <td>2017.0</td>\n",
              "      <td>14000</td>\n",
              "      <td>SUV</td>\n",
              "      <td>Petrol</td>\n",
              "    </tr>\n",
              "    <tr>\n",
              "      <th>3</th>\n",
              "      <td>45000.0</td>\n",
              "      <td>Vauxhall</td>\n",
              "      <td>2016.0</td>\n",
              "      <td>7995</td>\n",
              "      <td>Hatchback</td>\n",
              "      <td>Diesel</td>\n",
              "    </tr>\n",
              "    <tr>\n",
              "      <th>4</th>\n",
              "      <td>64000.0</td>\n",
              "      <td>Land Rover</td>\n",
              "      <td>2015.0</td>\n",
              "      <td>26995</td>\n",
              "      <td>SUV</td>\n",
              "      <td>Diesel</td>\n",
              "    </tr>\n",
              "    <tr>\n",
              "      <th>5</th>\n",
              "      <td>16000.0</td>\n",
              "      <td>Audi</td>\n",
              "      <td>2017.0</td>\n",
              "      <td>29000</td>\n",
              "      <td>Convertible</td>\n",
              "      <td>Petrol</td>\n",
              "    </tr>\n",
              "  </tbody>\n",
              "</table>\n",
              "</div>"
            ],
            "text/plain": [
              "    mileage standard_make  year_of_registration  price    body_type fuel_type\n",
              "1  108230.0        Jaguar                2011.0   7000       Saloon    Diesel\n",
              "2    7800.0         SKODA                2017.0  14000          SUV    Petrol\n",
              "3   45000.0      Vauxhall                2016.0   7995    Hatchback    Diesel\n",
              "4   64000.0    Land Rover                2015.0  26995          SUV    Diesel\n",
              "5   16000.0          Audi                2017.0  29000  Convertible    Petrol"
            ]
          },
          "metadata": {},
          "execution_count": 22
        }
      ]
    },
    {
      "cell_type": "markdown",
      "metadata": {
        "id": "7BKWCLWoZRPY"
      },
      "source": [
        "From the previous results of the data description can be seen that there is a huge difference in mean values of mileage and price so these columns contain outliers. The removal of these outliers are important as these data points are eronous. Ideas taken from: https://stackoverflow.com/questions/55471750/how-do-i-remove-outliers-using-multiple-columns-pandas"
      ]
    },
    {
      "cell_type": "code",
      "metadata": {
        "colab": {
          "base_uri": "https://localhost:8080/"
        },
        "id": "LmXsUenjG0jW",
        "outputId": "0cc33d2f-d11a-41b0-9684-cdc477ad9521"
      },
      "source": [
        "def cap_data(data2):\n",
        "    for col in data2.columns:\n",
        "        print(\"capping the \",col)\n",
        "        if (((data2[col].dtype)=='float64') | ((data2[col].dtype)=='int64')):\n",
        "            Q1 = data2.quantile(0.25)\n",
        "            Q3 = data2.quantile(0.75)\n",
        "            IQR = Q3 - Q1\n",
        "            data2 = data2[~((data2 < (Q1 - 1.5 * IQR)) |(data2 > (Q3 + 1.5 * IQR))).any(axis=1)]\n",
        "        else:\n",
        "            data2[col]=data2[col]\n",
        "    return data2\n",
        "df=cap_data(df)"
      ],
      "execution_count": 23,
      "outputs": [
        {
          "output_type": "stream",
          "name": "stdout",
          "text": [
            "capping the  mileage\n",
            "capping the  standard_make\n",
            "capping the  year_of_registration\n"
          ]
        },
        {
          "output_type": "stream",
          "name": "stderr",
          "text": [
            "/usr/local/lib/python3.7/dist-packages/ipykernel_launcher.py:10: SettingWithCopyWarning: \n",
            "A value is trying to be set on a copy of a slice from a DataFrame.\n",
            "Try using .loc[row_indexer,col_indexer] = value instead\n",
            "\n",
            "See the caveats in the documentation: https://pandas.pydata.org/pandas-docs/stable/user_guide/indexing.html#returning-a-view-versus-a-copy\n",
            "  # Remove the CWD from sys.path while we load stuff.\n"
          ]
        },
        {
          "output_type": "stream",
          "name": "stdout",
          "text": [
            "capping the  price\n",
            "capping the  body_type\n",
            "capping the  fuel_type\n"
          ]
        }
      ]
    },
    {
      "cell_type": "code",
      "metadata": {
        "id": "jeXXN_TdHUMx"
      },
      "source": [
        "#Changing the year of registration data type for data visualisation\n",
        "df['year_of_registration'] = df['year_of_registration'].astype(int)"
      ],
      "execution_count": 24,
      "outputs": []
    },
    {
      "cell_type": "code",
      "metadata": {
        "colab": {
          "base_uri": "https://localhost:8080/",
          "height": 374
        },
        "id": "uMdQ68lTH54_",
        "outputId": "266bf946-b060-4e2c-9da0-7620b26921da"
      },
      "source": [
        "#Further visualisations for data understanding\n",
        "\n",
        "#Distribution of price after data cleaning\n",
        "sns.histplot(df['price'],bins=25,kde=True)"
      ],
      "execution_count": 25,
      "outputs": [
        {
          "output_type": "execute_result",
          "data": {
            "text/plain": [
              "<matplotlib.axes._subplots.AxesSubplot at 0x7f339ca6e110>"
            ]
          },
          "metadata": {},
          "execution_count": 25
        },
        {
          "output_type": "display_data",
          "data": {
            "image/png": "[encoded data removed]",
            "text/plain": [
              "<Figure size 576x384 with 1 Axes>"
            ]
          },
          "metadata": {}
        }
      ]
    },
    {
      "cell_type": "code",
      "metadata": {
        "colab": {
          "base_uri": "https://localhost:8080/",
          "height": 293
        },
        "id": "XFwKimrKIHXa",
        "outputId": "360e6dd5-8108-4c46-8fbf-0833b9ae60b9"
      },
      "source": [
        "#Boxplots of all the chosen numeric features\n",
        "\n",
        "# define numerical columns idea from https://www.kaggle.com/brittabettendorf/predicting-accident-severity-with-rf-smote\n",
        "num_cols = ['price', 'mileage','year_of_registration']\n",
        "# plotting boxplots\n",
        "fig, axes = plt.subplots(3,1, figsize=(10,4))\n",
        "\n",
        "for ax, col in zip(axes, num_cols):\n",
        "    df.boxplot(column=col, grid=False, vert=False, ax=ax)\n",
        "    plt.tight_layout();"
      ],
      "execution_count": 26,
      "outputs": [
        {
          "output_type": "display_data",
          "data": {
            "image/png": "[encoded data removed]",
            "text/plain": [
              "<Figure size 720x288 with 3 Axes>"
            ]
          },
          "metadata": {}
        }
      ]
    },
    {
      "cell_type": "code",
      "metadata": {
        "id": "b_xAQ72MIjn-"
      },
      "source": [
        "#Some further understanding of the data through subsetting and grouping "
      ],
      "execution_count": 27,
      "outputs": []
    },
    {
      "cell_type": "markdown",
      "metadata": {
        "id": "zQyTY91JKi15"
      },
      "source": [
        "Most of the vehicles had a body type of Hatchback and fuelt type of petrol so the maximum price of those vehicles and their milleage, make, year of registration and fuel type are as follows.\n"
      ]
    },
    {
      "cell_type": "code",
      "metadata": {
        "colab": {
          "base_uri": "https://localhost:8080/"
        },
        "id": "OpKNbk74K9GH",
        "outputId": "faad8cf1-92dc-4f43-9a53-d3ef1cedc142"
      },
      "source": [
        "df.loc[(df['fuel_type']=='Petrol') & (df['body_type']=='Hatchback')]['price'].max()"
      ],
      "execution_count": 28,
      "outputs": [
        {
          "output_type": "execute_result",
          "data": {
            "text/plain": [
              "31250"
            ]
          },
          "metadata": {},
          "execution_count": 28
        }
      ]
    },
    {
      "cell_type": "code",
      "metadata": {
        "colab": {
          "base_uri": "https://localhost:8080/",
          "height": 110
        },
        "id": "U0xt61h0LXxz",
        "outputId": "10c0ae81-7b92-4f3d-ec31-44dd8461cb5f"
      },
      "source": [
        "df.loc[(df['price']==31250) & (df['body_type']=='Hatchback')]"
      ],
      "execution_count": 29,
      "outputs": [
        {
          "output_type": "execute_result",
          "data": {
            "text/html": [
              "<div>\n",
              "<style scoped>\n",
              "    .dataframe tbody tr th:only-of-type {\n",
              "        vertical-align: middle;\n",
              "    }\n",
              "\n",
              "    .dataframe tbody tr th {\n",
              "        vertical-align: top;\n",
              "    }\n",
              "\n",
              "    .dataframe thead th {\n",
              "        text-align: right;\n",
              "    }\n",
              "</style>\n",
              "<table border=\"1\" class=\"dataframe\">\n",
              "  <thead>\n",
              "    <tr style=\"text-align: right;\">\n",
              "      <th></th>\n",
              "      <th>mileage</th>\n",
              "      <th>standard_make</th>\n",
              "      <th>year_of_registration</th>\n",
              "      <th>price</th>\n",
              "      <th>body_type</th>\n",
              "      <th>fuel_type</th>\n",
              "    </tr>\n",
              "  </thead>\n",
              "  <tbody>\n",
              "    <tr>\n",
              "      <th>69416</th>\n",
              "      <td>3300.0</td>\n",
              "      <td>Volkswagen</td>\n",
              "      <td>2020</td>\n",
              "      <td>31250</td>\n",
              "      <td>Hatchback</td>\n",
              "      <td>Petrol</td>\n",
              "    </tr>\n",
              "    <tr>\n",
              "      <th>293452</th>\n",
              "      <td>4321.0</td>\n",
              "      <td>Peugeot</td>\n",
              "      <td>2020</td>\n",
              "      <td>31250</td>\n",
              "      <td>Hatchback</td>\n",
              "      <td>Petrol Plug-in Hybrid</td>\n",
              "    </tr>\n",
              "  </tbody>\n",
              "</table>\n",
              "</div>"
            ],
            "text/plain": [
              "        mileage standard_make  ...  body_type              fuel_type\n",
              "69416    3300.0    Volkswagen  ...  Hatchback                 Petrol\n",
              "293452   4321.0       Peugeot  ...  Hatchback  Petrol Plug-in Hybrid\n",
              "\n",
              "[2 rows x 6 columns]"
            ]
          },
          "metadata": {},
          "execution_count": 29
        }
      ]
    },
    {
      "cell_type": "code",
      "metadata": {
        "colab": {
          "base_uri": "https://localhost:8080/",
          "height": 447
        },
        "id": "N6q3ef3XLv1S",
        "outputId": "c56bc9ea-d43b-4d83-aa56-049aff051dfc"
      },
      "source": [
        "#Vehicle make which is equal to the avg mileage\n",
        "makedf = df.set_index(['standard_make', 'price'])\n",
        "makedf.loc[makedf['mileage']==12000]"
      ],
      "execution_count": 30,
      "outputs": [
        {
          "output_type": "execute_result",
          "data": {
            "text/html": [
              "<div>\n",
              "<style scoped>\n",
              "    .dataframe tbody tr th:only-of-type {\n",
              "        vertical-align: middle;\n",
              "    }\n",
              "\n",
              "    .dataframe tbody tr th {\n",
              "        vertical-align: top;\n",
              "    }\n",
              "\n",
              "    .dataframe thead th {\n",
              "        text-align: right;\n",
              "    }\n",
              "</style>\n",
              "<table border=\"1\" class=\"dataframe\">\n",
              "  <thead>\n",
              "    <tr style=\"text-align: right;\">\n",
              "      <th></th>\n",
              "      <th></th>\n",
              "      <th>mileage</th>\n",
              "      <th>year_of_registration</th>\n",
              "      <th>body_type</th>\n",
              "      <th>fuel_type</th>\n",
              "    </tr>\n",
              "    <tr>\n",
              "      <th>standard_make</th>\n",
              "      <th>price</th>\n",
              "      <th></th>\n",
              "      <th></th>\n",
              "      <th></th>\n",
              "      <th></th>\n",
              "    </tr>\n",
              "  </thead>\n",
              "  <tbody>\n",
              "    <tr>\n",
              "      <th>Toyota</th>\n",
              "      <th>16390</th>\n",
              "      <td>12000.0</td>\n",
              "      <td>2017</td>\n",
              "      <td>SUV</td>\n",
              "      <td>Petrol Hybrid</td>\n",
              "    </tr>\n",
              "    <tr>\n",
              "      <th>MINI</th>\n",
              "      <th>18995</th>\n",
              "      <td>12000.0</td>\n",
              "      <td>2018</td>\n",
              "      <td>SUV</td>\n",
              "      <td>Diesel</td>\n",
              "    </tr>\n",
              "    <tr>\n",
              "      <th>Renault</th>\n",
              "      <th>9995</th>\n",
              "      <td>12000.0</td>\n",
              "      <td>2016</td>\n",
              "      <td>Hatchback</td>\n",
              "      <td>Diesel</td>\n",
              "    </tr>\n",
              "    <tr>\n",
              "      <th>Peugeot</th>\n",
              "      <th>16990</th>\n",
              "      <td>12000.0</td>\n",
              "      <td>2019</td>\n",
              "      <td>Hatchback</td>\n",
              "      <td>Diesel</td>\n",
              "    </tr>\n",
              "    <tr>\n",
              "      <th>Honda</th>\n",
              "      <th>17499</th>\n",
              "      <td>12000.0</td>\n",
              "      <td>2017</td>\n",
              "      <td>SUV</td>\n",
              "      <td>Petrol</td>\n",
              "    </tr>\n",
              "    <tr>\n",
              "      <th>...</th>\n",
              "      <th>...</th>\n",
              "      <td>...</td>\n",
              "      <td>...</td>\n",
              "      <td>...</td>\n",
              "      <td>...</td>\n",
              "    </tr>\n",
              "    <tr>\n",
              "      <th>Kia</th>\n",
              "      <th>15490</th>\n",
              "      <td>12000.0</td>\n",
              "      <td>2017</td>\n",
              "      <td>SUV</td>\n",
              "      <td>Petrol</td>\n",
              "    </tr>\n",
              "    <tr>\n",
              "      <th>Jaguar</th>\n",
              "      <th>17100</th>\n",
              "      <td>12000.0</td>\n",
              "      <td>2017</td>\n",
              "      <td>Saloon</td>\n",
              "      <td>Diesel</td>\n",
              "    </tr>\n",
              "    <tr>\n",
              "      <th>Vauxhall</th>\n",
              "      <th>11295</th>\n",
              "      <td>12000.0</td>\n",
              "      <td>2018</td>\n",
              "      <td>Hatchback</td>\n",
              "      <td>Petrol</td>\n",
              "    </tr>\n",
              "    <tr>\n",
              "      <th>Fiat</th>\n",
              "      <th>10500</th>\n",
              "      <td>12000.0</td>\n",
              "      <td>2019</td>\n",
              "      <td>Estate</td>\n",
              "      <td>Diesel</td>\n",
              "    </tr>\n",
              "    <tr>\n",
              "      <th>Mitsubishi</th>\n",
              "      <th>17295</th>\n",
              "      <td>12000.0</td>\n",
              "      <td>2019</td>\n",
              "      <td>SUV</td>\n",
              "      <td>Petrol</td>\n",
              "    </tr>\n",
              "  </tbody>\n",
              "</table>\n",
              "<p>499 rows × 4 columns</p>\n",
              "</div>"
            ],
            "text/plain": [
              "                     mileage  year_of_registration  body_type      fuel_type\n",
              "standard_make price                                                         \n",
              "Toyota        16390  12000.0                  2017        SUV  Petrol Hybrid\n",
              "MINI          18995  12000.0                  2018        SUV         Diesel\n",
              "Renault       9995   12000.0                  2016  Hatchback         Diesel\n",
              "Peugeot       16990  12000.0                  2019  Hatchback         Diesel\n",
              "Honda         17499  12000.0                  2017        SUV         Petrol\n",
              "...                      ...                   ...        ...            ...\n",
              "Kia           15490  12000.0                  2017        SUV         Petrol\n",
              "Jaguar        17100  12000.0                  2017     Saloon         Diesel\n",
              "Vauxhall      11295  12000.0                  2018  Hatchback         Petrol\n",
              "Fiat          10500  12000.0                  2019     Estate         Diesel\n",
              "Mitsubishi    17295  12000.0                  2019        SUV         Petrol\n",
              "\n",
              "[499 rows x 4 columns]"
            ]
          },
          "metadata": {},
          "execution_count": 30
        }
      ]
    },
    {
      "cell_type": "code",
      "metadata": {
        "colab": {
          "base_uri": "https://localhost:8080/",
          "height": 447
        },
        "id": "aSWXvb2sNX_V",
        "outputId": "a336d167-5738-44e4-a780-a315fec3b026"
      },
      "source": [
        "#Group of vehicles wih maximum mileages and prices\n",
        "df.groupby('standard_make')[['mileage','price']].max()"
      ],
      "execution_count": 31,
      "outputs": [
        {
          "output_type": "execute_result",
          "data": {
            "text/html": [
              "<div>\n",
              "<style scoped>\n",
              "    .dataframe tbody tr th:only-of-type {\n",
              "        vertical-align: middle;\n",
              "    }\n",
              "\n",
              "    .dataframe tbody tr th {\n",
              "        vertical-align: top;\n",
              "    }\n",
              "\n",
              "    .dataframe thead th {\n",
              "        text-align: right;\n",
              "    }\n",
              "</style>\n",
              "<table border=\"1\" class=\"dataframe\">\n",
              "  <thead>\n",
              "    <tr style=\"text-align: right;\">\n",
              "      <th></th>\n",
              "      <th>mileage</th>\n",
              "      <th>price</th>\n",
              "    </tr>\n",
              "    <tr>\n",
              "      <th>standard_make</th>\n",
              "      <th></th>\n",
              "      <th></th>\n",
              "    </tr>\n",
              "  </thead>\n",
              "  <tbody>\n",
              "    <tr>\n",
              "      <th>Abarth</th>\n",
              "      <td>114000.0</td>\n",
              "      <td>30250</td>\n",
              "    </tr>\n",
              "    <tr>\n",
              "      <th>Aixam</th>\n",
              "      <td>9551.0</td>\n",
              "      <td>6300</td>\n",
              "    </tr>\n",
              "    <tr>\n",
              "      <th>Alfa Romeo</th>\n",
              "      <td>114697.0</td>\n",
              "      <td>31000</td>\n",
              "    </tr>\n",
              "    <tr>\n",
              "      <th>Aston Martin</th>\n",
              "      <td>75000.0</td>\n",
              "      <td>29995</td>\n",
              "    </tr>\n",
              "    <tr>\n",
              "      <th>Audi</th>\n",
              "      <td>114821.0</td>\n",
              "      <td>31250</td>\n",
              "    </tr>\n",
              "    <tr>\n",
              "      <th>...</th>\n",
              "      <td>...</td>\n",
              "      <td>...</td>\n",
              "    </tr>\n",
              "    <tr>\n",
              "      <th>Vauxhall</th>\n",
              "      <td>114818.0</td>\n",
              "      <td>30995</td>\n",
              "    </tr>\n",
              "    <tr>\n",
              "      <th>Volkswagen</th>\n",
              "      <td>114848.0</td>\n",
              "      <td>31250</td>\n",
              "    </tr>\n",
              "    <tr>\n",
              "      <th>Volvo</th>\n",
              "      <td>114566.0</td>\n",
              "      <td>31250</td>\n",
              "    </tr>\n",
              "    <tr>\n",
              "      <th>Westfield</th>\n",
              "      <td>10000.0</td>\n",
              "      <td>19950</td>\n",
              "    </tr>\n",
              "    <tr>\n",
              "      <th>Zenos</th>\n",
              "      <td>3800.0</td>\n",
              "      <td>29999</td>\n",
              "    </tr>\n",
              "  </tbody>\n",
              "</table>\n",
              "<p>65 rows × 2 columns</p>\n",
              "</div>"
            ],
            "text/plain": [
              "                mileage  price\n",
              "standard_make                 \n",
              "Abarth         114000.0  30250\n",
              "Aixam            9551.0   6300\n",
              "Alfa Romeo     114697.0  31000\n",
              "Aston Martin    75000.0  29995\n",
              "Audi           114821.0  31250\n",
              "...                 ...    ...\n",
              "Vauxhall       114818.0  30995\n",
              "Volkswagen     114848.0  31250\n",
              "Volvo          114566.0  31250\n",
              "Westfield       10000.0  19950\n",
              "Zenos            3800.0  29999\n",
              "\n",
              "[65 rows x 2 columns]"
            ]
          },
          "metadata": {},
          "execution_count": 31
        }
      ]
    },
    {
      "cell_type": "markdown",
      "metadata": {
        "id": "FNpa3Fmeb7Zm"
      },
      "source": [
        "Analysis of relationships of some features between price"
      ]
    },
    {
      "cell_type": "code",
      "metadata": {
        "id": "DJ3v-f32N_kx",
        "colab": {
          "base_uri": "https://localhost:8080/",
          "height": 357
        },
        "outputId": "164fb4a0-933f-4894-8a1e-f682a05de6b0"
      },
      "source": [
        "#Relationship between price and year of registrationv\n",
        "sns.lineplot(x='year_of_registration',y='price',data=df);"
      ],
      "execution_count": 32,
      "outputs": [
        {
          "output_type": "display_data",
          "data": {
            "image/png": "[encoded data removed]",
            "text/plain": [
              "<Figure size 576x384 with 1 Axes>"
            ]
          },
          "metadata": {}
        }
      ]
    },
    {
      "cell_type": "code",
      "metadata": {
        "colab": {
          "base_uri": "https://localhost:8080/",
          "height": 357
        },
        "id": "M7TjOtSImrWO",
        "outputId": "db18d1a4-a3e7-42fa-8ca1-fc759f8529e9"
      },
      "source": [
        "# Relationship between price and fuel type\n",
        "sns.boxplot(x=df['price'], y='fuel_type', data=df);"
      ],
      "execution_count": 33,
      "outputs": [
        {
          "output_type": "display_data",
          "data": {
            "image/png": "[encoded data removed]",
            "text/plain": [
              "<Figure size 576x384 with 1 Axes>"
            ]
          },
          "metadata": {}
        }
      ]
    },
    {
      "cell_type": "code",
      "metadata": {
        "colab": {
          "base_uri": "https://localhost:8080/",
          "height": 357
        },
        "id": "6aXXe1hOuMrv",
        "outputId": "236b7dc8-43d4-4b0c-a62e-93c1930ae893"
      },
      "source": [
        "# Relationship between price and body type\n",
        "sns.boxplot(x='price', y='body_type', data=df);"
      ],
      "execution_count": 34,
      "outputs": [
        {
          "output_type": "display_data",
          "data": {
            "image/png": "[encoded data removed]",
            "text/plain": [
              "<Figure size 576x384 with 1 Axes>"
            ]
          },
          "metadata": {}
        }
      ]
    },
    {
      "cell_type": "markdown",
      "metadata": {
        "id": "LwrHlf31hs99"
      },
      "source": [
        "Understanding some further relationships among other features of the dataset"
      ]
    },
    {
      "cell_type": "code",
      "metadata": {
        "colab": {
          "base_uri": "https://localhost:8080/",
          "height": 463
        },
        "id": "zigVvtxIoZUO",
        "outputId": "b17ee86d-6b43-417f-f14d-452856f0f74c"
      },
      "source": [
        "#Understanding of the relationship between avg mileage of vehicles of different fuel types between 2017 and 2020\n",
        "df.groupby(['fuel_type', 'year_of_registration'])['mileage'].mean().unstack('year_of_registration').loc[:,2017:2020].plot.bar();"
      ],
      "execution_count": 35,
      "outputs": [
        {
          "output_type": "display_data",
          "data": {
            "image/png": "[encoded data removed]",
            "text/plain": [
              "<Figure size 576x384 with 1 Axes>"
            ]
          },
          "metadata": {}
        }
      ]
    },
    {
      "cell_type": "code",
      "metadata": {
        "colab": {
          "base_uri": "https://localhost:8080/",
          "height": 360
        },
        "id": "3-c7Nt-kr-_X",
        "outputId": "d58efce4-f798-480d-9aac-98b9ceeb6fe9"
      },
      "source": [
        "#Understanding of the relationship between mileage of vehicles over the years of their registration\n",
        "sns.regplot(x='year_of_registration', y='mileage', data=df );"
      ],
      "execution_count": 36,
      "outputs": [
        {
          "output_type": "display_data",
          "data": {
            "image/png": "[encoded data removed]",
            "text/plain": [
              "<Figure size 576x384 with 1 Axes>"
            ]
          },
          "metadata": {}
        }
      ]
    },
    {
      "cell_type": "code",
      "metadata": {
        "colab": {
          "base_uri": "https://localhost:8080/",
          "height": 365
        },
        "id": "Zp7VQwQSFOPp",
        "outputId": "32025c66-a2f7-49b1-9bd8-e66a89e6e936"
      },
      "source": [
        "#Relationship between mileage and fuel type of Audi by a categorical plot\n",
        "sns.catplot(y='fuel_type', x='mileage', data=df.loc[df['standard_make']=='Audi']);"
      ],
      "execution_count": 37,
      "outputs": [
        {
          "output_type": "display_data",
          "data": {
            "image/png": "[encoded data removed]",
            "text/plain": [
              "<Figure size 360x360 with 1 Axes>"
            ]
          },
          "metadata": {}
        }
      ]
    },
    {
      "cell_type": "markdown",
      "metadata": {
        "id": "7d5joWxnKb_C"
      },
      "source": [
        "#Conclusion\n",
        "After loading the dataset I have observed that the vehicle conditions which are new has NaN (missing) values for the \"reg_code\" and \"year_of_registration\", also the values for their milleage ranges between 0 to 10, hence, I assumed that these data are missing and it is clear that vehicle condition is not an important feature. From the results of the descriptive statistics of the numeric features it is found that the max values are quite higher than the mean so this means that there were outliers in the dataset. So to clean the data I have dropped the missing values and removed the outliers. To identify the best numeric predictor of \"price\" I drew a correlation plot of the numeric features which shows that the \"year_of_registration\" is positively correlated to the price feature. After analysing the categorical variables I decided to drop features such as \"reg_code\", \"standard_color\" and \"standard_model\" as they have a higher number of unique values which makes plotting difficult and intuiatively they might not have any impacts on a vehicle prices. Although the \"mileage\" is negatively correlated I kept this feature along with \"standard_make\" to find out some relatiionships between other features. It is also seen that the \"crossover_car_and_van\" has only a few number of True values so I have also dropped this feature.\n",
        "\n",
        "By drawing a lineplot of vehicle prices against the year of registration the output shows that as years increased so did the prices which means that there is a strong positive correlation between these two variables which indicates that the year of registration is an ideal predictor of the prices of the vehicles. To identify the reltionship between the body type and fuel type with price I have produced boxplots of fuel type and body type against the price and the results show that the mean price of the Petrol Plug-in Hybrid is higher than other body types which is about 20,000 and the least mean value is 15,000 for vehicles which run of Bi-Fuel. The vehicles of Camper body type has the highest mean prices compared to others at around 28,000 whereas the least value is around 9,000 for vehicles which have a body type of Window Van.\n",
        "\n",
        "Apart from price I have performed some bivariate/trivariate analysis among the other features. To understand the relationship between the average mileage of vehicles of different fuel types between 2017 and 2020 I have produced a bar chart. The output shows that the average mileage for vehicles that run on all the fuel types remained low compared to other types in 2020. The highest average mileages were recored for vehicles running on Dissel Plug-In Hybrid was in 2017 and this trend was similar for other fuel types for the years. However, no values are seen for this fuel type for the years 2018 and 2020 which indicates that a very low number of vehicles ran on Dissel Plug-In Hybrid during this period whereas, no average mileages are found for vehicles running of Bi-Fuel for the years 2017 and 2018.\n",
        "\n",
        "To understand the relationship between mileage of vehicles over the years of their registration I have produced a regression plot for the years against the mileage. The result shows that there is a strong negative correlation between these two features which is indicated by the downward regression line. Finally, to analyse the relationship between mileage and fuel type of Audi by generating a categorical plot. From this plot it can be seen that the least number of Audis run on Dissel and Petrol Plug-In Hybrid compared to those running on Petrol and Disel.\n",
        "\n",
        "###Future Recommendations\n",
        "Although it can be concluded that year of registration is one of the identified features that is a strong predictor of price, however the relationships between the price, body type and fuel type shown from these tasks are inconclusive so they need further analysis. To properly identify the the relationships between a categorical variable and a numeric variable further analysis such as Point biserial Correlation, Logistic Regression and so on are needed. Source: https://medium.com/@outside2SDs/an-overview-of-correlation-measures-between-categorical-and-continuous-variables-4c7f85610365 "
      ]
    }
  ]
}